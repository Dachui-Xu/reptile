{
  "cells": [
    {
      "cell_type": "code",
      "execution_count": null,
      "metadata": {
        "id": "KpSYq5dzOCm-"
      },
      "outputs": [],
      "source": [
        "!pip3 install langchain_community\n",
        "!pip install langchain[ollama]"
      ]
    },
    {
      "cell_type": "code",
      "execution_count": null,
      "metadata": {
        "id": "FZa-6QYsaIFc"
      },
      "outputs": [],
      "source": [
        "!pip install ollama"
      ]
    },
    {
      "cell_type": "markdown",
      "metadata": {
        "id": "A4MGCIV4fSk0"
      },
      "source": [
        "安装ollama"
      ]
    },
    {
      "cell_type": "code",
      "execution_count": null,
      "metadata": {
        "id": "OhZQnFd1YUGh"
      },
      "outputs": [],
      "source": [
        "!curl -fsSL https://ollama.com/install.sh | sh"
      ]
    },
    {
      "cell_type": "code",
      "execution_count": null,
      "metadata": {
        "id": "m_HQXSPbYx3i"
      },
      "outputs": [],
      "source": [
        "!ollama run gemma"
      ]
    },
    {
      "cell_type": "code",
      "execution_count": null,
      "metadata": {
        "id": "uZTP7DjdYsSK"
      },
      "outputs": [],
      "source": [
        "# 如果有端口占用，运行\n",
        "!nohup ollama serve > ollama_log.txt 2>&1 &"
      ]
    },
    {
      "cell_type": "code",
      "execution_count": null,
      "metadata": {
        "id": "-rqbJTWcYf28"
      },
      "outputs": [],
      "source": [
        "from langchain.llms import Ollama\n",
        "from langchain.callbacks.manager import CallbackManager\n",
        "from langchain.callbacks.streaming_stdout import StreamingStdOutCallbackHandler"
      ]
    },
    {
      "cell_type": "code",
      "execution_count": null,
      "metadata": {
        "colab": {
          "base_uri": "https://localhost:8080/",
          "height": 52
        },
        "id": "04Yzw_VsYhgL",
        "outputId": "c22f5909-1482-483b-b2d5-44d808c4c17b"
      },
      "outputs": [
        {
          "name": "stdout",
          "output_type": "stream",
          "text": [
            "阿波罗11号的 commander Neil Armstrong 是第一个登入月球的人。"
          ]
        },
        {
          "data": {
            "application/vnd.google.colaboratory.intrinsic+json": {
              "type": "string"
            },
            "text/plain": [
              "'阿波罗11号的 commander Neil Armstrong 是第一个登入月球的人。'"
            ]
          },
          "execution_count": 130,
          "metadata": {},
          "output_type": "execute_result"
        }
      ],
      "source": [
        "llm = Ollama(model=\"gemma\",\n",
        "             callback_manager=CallbackManager([StreamingStdOutCallbackHandler()]))\n",
        "\n",
        "llm(\"谁是第一个登入月球的人？\")"
      ]
    },
    {
      "cell_type": "markdown",
      "metadata": {
        "id": "QHkdgolNbw9k"
      },
      "source": [
        "读excel数据"
      ]
    },
    {
      "cell_type": "code",
      "execution_count": 3,
      "metadata": {
        "colab": {
          "base_uri": "https://localhost:8080/",
          "height": 206
        },
        "id": "6zlv1A7_bt3c",
        "outputId": "ccd1fb45-185e-4bc7-bf4f-d22564689b88"
      },
      "outputs": [
        {
          "data": {
            "application/vnd.google.colaboratory.intrinsic+json": {
              "summary": "{\n  \"name\": \"df\",\n  \"rows\": 600,\n  \"fields\": [\n    {\n      \"column\": \"time\",\n      \"properties\": {\n        \"dtype\": \"object\",\n        \"num_unique_values\": 600,\n        \"samples\": [\n          \"2017-04-15 01:37:39\\n                \",\n          \"2019-10-21 12:41:25\\n                \",\n          \"2020-06-27 17:14:21\\n                \"\n        ],\n        \"semantic_type\": \"\",\n        \"description\": \"\"\n      }\n    },\n    {\n      \"column\": \"user_name\",\n      \"properties\": {\n        \"dtype\": \"string\",\n        \"num_unique_values\": 597,\n        \"samples\": [\n          \"\\u53ef\\u4e50\\u6216\\u4e56\\u4e56\",\n          \"\\u521d\\u89c1.\",\n          \"\\u6211\\u8eab\\u65e0\\u5f62\"\n        ],\n        \"semantic_type\": \"\",\n        \"description\": \"\"\n      }\n    },\n    {\n      \"column\": \"vote\",\n      \"properties\": {\n        \"dtype\": \"number\",\n        \"std\": 925,\n        \"min\": 0,\n        \"max\": 15630,\n        \"num_unique_values\": 105,\n        \"samples\": [\n          60,\n          150,\n          28\n        ],\n        \"semantic_type\": \"\",\n        \"description\": \"\"\n      }\n    },\n    {\n      \"column\": \"score\",\n      \"properties\": {\n        \"dtype\": \"number\",\n        \"std\": 0.6769306526883984,\n        \"min\": 1.0,\n        \"max\": 5.0,\n        \"num_unique_values\": 5,\n        \"samples\": [\n          5.0,\n          1.0,\n          2.0\n        ],\n        \"semantic_type\": \"\",\n        \"description\": \"\"\n      }\n    },\n    {\n      \"column\": \"comment_content\",\n      \"properties\": {\n        \"dtype\": \"string\",\n        \"num_unique_values\": 600,\n        \"samples\": [\n          \"\\u529f\\u592b\\u5728\\u8c46\\u74e3\\u4e0a\\u7684\\u5206\\u6570\\u4f4e\\u4e8e\\u6211\\u5bf9\\u5b83\\u7684\\u5370\\u8c61\\u503c\",\n          \"\\u672c\\u6765\\u6234\\u7740\\u8033\\u673a\\u4e00\\u4e2a\\u4eba\\u770b\\u7684\\uff0c\\u7ed3\\u679c\\u820d\\u53cb\\u4e00\\u4e2a\\u4e2a\\u8def\\u8fc7\\u90fd\\u8ddf\\u7740\\u770b\\u4e86\\uff0c\\u4e8e\\u662f\\u5c31\\u5916\\u653e\\u56db\\u4e2a\\u4eba\\u4e00\\u8d77\\u770b\\u4e86\\ud83d\\ude02\\n\\u5e94\\u8be5\\u662f\\u5468\\u661f\\u9a70\\u65b0\\u5343\\u5e74\\u6700\\u4f73\\u4e86\\uff0c\\u5047\\u4ee5\\u65f6\\u65e5\\uff0c\\u6211\\u89c9\\u5f97\\u51b2\\u8fdb\\u8c46\\u74e3top100\\u6ca1\\u95ee\\u9898\\u3002\",\n          \"\\u5c45\\u7136\\u6ca1\\u6807\\u2026 \\u6211\\u8bb0\\u5f97\\u90a3\\u662f2004\\u5e74\\u5e73\\u5b89\\u591c\\uff0c\\u540c\\u5b66\\u4eec\\u90fd\\u8dd1\\u51fa\\u53bb\\u73a9\\uff0c\\u5148\\u901b\\u6559\\u5802\\uff0c\\u7136\\u540e\\u4e00\\u8def\\u4ece\\u6559\\u5802\\u7a7f\\u8fc7\\u6ee8\\u6c5f\\u9053\\u8d70\\u5230\\u548c\\u5e73\\u8def\\u65b0\\u5f00\\u4e1a\\u7684\\u4e07\\u8fbe\\u5f71\\u57ce\\u3002\\u4e07\\u8fbe\\u5728\\u6700\\u5927\\u7684\\u5385\\u641e\\u4e86\\u51e0\\u90e8\\u5f53\\u65f6\\u65b0\\u4e0a\\u7535\\u5f71\\u7684\\u901a\\u5bb5\\u653e\\u6620\\uff0c\\u6709\\u8fd9\\u4e2a\\uff0c\\u6709\\u300a\\u6211\\uff0c\\u673a\\u5668\\u4eba\\u300b\\uff0c\\u8fd8\\u6709\\u4e24\\u90e8\\u6211\\u5c45\\u7136\\u8bb0\\u4e0d\\u6e05\\u4e86\\u3002\\u90a3\\u65f6\\u5019\\u8fd8\\u5c0f\\u53ef\\u80fd\\u8fd8\\u770b\\u4e0d\\u61c2\\u7535\\u5f71\\uff0c\\u4f46\\u90a3\\u79cd\\u6587\\u5316\\u4ea7\\u4e1a\\u6b23\\u6b23\\u5411\\u8363\\u7684\\u611f\\u89c9\\uff0c\\u6015\\u662f\\u518d\\u4e5f\\u6ca1\\u6709\\u4e86\\u2026\\u2026 \"\n        ],\n        \"semantic_type\": \"\",\n        \"description\": \"\"\n      }\n    }\n  ]\n}",
              "type": "dataframe",
              "variable_name": "df"
            },
            "text/html": [
              "\n",
              "  <div id=\"df-6d373da4-a4d3-4dd8-b020-e741a18dd71b\" class=\"colab-df-container\">\n",
              "    <div>\n",
              "<style scoped>\n",
              "    .dataframe tbody tr th:only-of-type {\n",
              "        vertical-align: middle;\n",
              "    }\n",
              "\n",
              "    .dataframe tbody tr th {\n",
              "        vertical-align: top;\n",
              "    }\n",
              "\n",
              "    .dataframe thead th {\n",
              "        text-align: right;\n",
              "    }\n",
              "</style>\n",
              "<table border=\"1\" class=\"dataframe\">\n",
              "  <thead>\n",
              "    <tr style=\"text-align: right;\">\n",
              "      <th></th>\n",
              "      <th>time</th>\n",
              "      <th>user_name</th>\n",
              "      <th>vote</th>\n",
              "      <th>score</th>\n",
              "      <th>comment_content</th>\n",
              "    </tr>\n",
              "  </thead>\n",
              "  <tbody>\n",
              "    <tr>\n",
              "      <th>0</th>\n",
              "      <td>2007-02-15 18:38:00\\n</td>\n",
              "      <td>芥末小馒头</td>\n",
              "      <td>2912</td>\n",
              "      <td>4.0</td>\n",
              "      <td>不要说烂，其实很卡通很cult</td>\n",
              "    </tr>\n",
              "    <tr>\n",
              "      <th>1</th>\n",
              "      <td>2012-07-24 23:20:59\\n</td>\n",
              "      <td>Bono</td>\n",
              "      <td>15630</td>\n",
              "      <td>5.0</td>\n",
              "      <td>超级耐看和严重被低估的电影，看十来遍了越看越好看，我想100年后还是有很多人爱看它。</td>\n",
              "    </tr>\n",
              "    <tr>\n",
              "      <th>2</th>\n",
              "      <td>2009-09-05 08:24:31\\n</td>\n",
              "      <td>郁程</td>\n",
              "      <td>10625</td>\n",
              "      <td>5.0</td>\n",
              "      <td>再都不可能出现比它牛B的功夫电影了</td>\n",
              "    </tr>\n",
              "    <tr>\n",
              "      <th>3</th>\n",
              "      <td>2012-01-29 02:19:06\\n</td>\n",
              "      <td>魚山飯寬</td>\n",
              "      <td>6594</td>\n",
              "      <td>5.0</td>\n",
              "      <td>重温星爷的功夫，猛觉得这是部无比伟大的电影！</td>\n",
              "    </tr>\n",
              "    <tr>\n",
              "      <th>4</th>\n",
              "      <td>2006-07-17 11:33:37\\n</td>\n",
              "      <td>鱼丸粗面</td>\n",
              "      <td>2243</td>\n",
              "      <td>4.0</td>\n",
              "      <td>华丽的夸张，情节倒是紧凑，毫不拖沓</td>\n",
              "    </tr>\n",
              "  </tbody>\n",
              "</table>\n",
              "</div>\n",
              "    <div class=\"colab-df-buttons\">\n",
              "\n",
              "  <div class=\"colab-df-container\">\n",
              "    <button class=\"colab-df-convert\" onclick=\"convertToInteractive('df-6d373da4-a4d3-4dd8-b020-e741a18dd71b')\"\n",
              "            title=\"Convert this dataframe to an interactive table.\"\n",
              "            style=\"display:none;\">\n",
              "\n",
              "  <svg xmlns=\"http://www.w3.org/2000/svg\" height=\"24px\" viewBox=\"0 -960 960 960\">\n",
              "    <path d=\"M120-120v-720h720v720H120Zm60-500h600v-160H180v160Zm220 220h160v-160H400v160Zm0 220h160v-160H400v160ZM180-400h160v-160H180v160Zm440 0h160v-160H620v160ZM180-180h160v-160H180v160Zm440 0h160v-160H620v160Z\"/>\n",
              "  </svg>\n",
              "    </button>\n",
              "\n",
              "  <style>\n",
              "    .colab-df-container {\n",
              "      display:flex;\n",
              "      gap: 12px;\n",
              "    }\n",
              "\n",
              "    .colab-df-convert {\n",
              "      background-color: #E8F0FE;\n",
              "      border: none;\n",
              "      border-radius: 50%;\n",
              "      cursor: pointer;\n",
              "      display: none;\n",
              "      fill: #1967D2;\n",
              "      height: 32px;\n",
              "      padding: 0 0 0 0;\n",
              "      width: 32px;\n",
              "    }\n",
              "\n",
              "    .colab-df-convert:hover {\n",
              "      background-color: #E2EBFA;\n",
              "      box-shadow: 0px 1px 2px rgba(60, 64, 67, 0.3), 0px 1px 3px 1px rgba(60, 64, 67, 0.15);\n",
              "      fill: #174EA6;\n",
              "    }\n",
              "\n",
              "    .colab-df-buttons div {\n",
              "      margin-bottom: 4px;\n",
              "    }\n",
              "\n",
              "    [theme=dark] .colab-df-convert {\n",
              "      background-color: #3B4455;\n",
              "      fill: #D2E3FC;\n",
              "    }\n",
              "\n",
              "    [theme=dark] .colab-df-convert:hover {\n",
              "      background-color: #434B5C;\n",
              "      box-shadow: 0px 1px 3px 1px rgba(0, 0, 0, 0.15);\n",
              "      filter: drop-shadow(0px 1px 2px rgba(0, 0, 0, 0.3));\n",
              "      fill: #FFFFFF;\n",
              "    }\n",
              "  </style>\n",
              "\n",
              "    <script>\n",
              "      const buttonEl =\n",
              "        document.querySelector('#df-6d373da4-a4d3-4dd8-b020-e741a18dd71b button.colab-df-convert');\n",
              "      buttonEl.style.display =\n",
              "        google.colab.kernel.accessAllowed ? 'block' : 'none';\n",
              "\n",
              "      async function convertToInteractive(key) {\n",
              "        const element = document.querySelector('#df-6d373da4-a4d3-4dd8-b020-e741a18dd71b');\n",
              "        const dataTable =\n",
              "          await google.colab.kernel.invokeFunction('convertToInteractive',\n",
              "                                                    [key], {});\n",
              "        if (!dataTable) return;\n",
              "\n",
              "        const docLinkHtml = 'Like what you see? Visit the ' +\n",
              "          '<a target=\"_blank\" href=https://colab.research.google.com/notebooks/data_table.ipynb>data table notebook</a>'\n",
              "          + ' to learn more about interactive tables.';\n",
              "        element.innerHTML = '';\n",
              "        dataTable['output_type'] = 'display_data';\n",
              "        await google.colab.output.renderOutput(dataTable, element);\n",
              "        const docLink = document.createElement('div');\n",
              "        docLink.innerHTML = docLinkHtml;\n",
              "        element.appendChild(docLink);\n",
              "      }\n",
              "    </script>\n",
              "  </div>\n",
              "\n",
              "\n",
              "<div id=\"df-3278b8b1-5e83-4e36-a8ba-ab6f07304243\">\n",
              "  <button class=\"colab-df-quickchart\" onclick=\"quickchart('df-3278b8b1-5e83-4e36-a8ba-ab6f07304243')\"\n",
              "            title=\"Suggest charts\"\n",
              "            style=\"display:none;\">\n",
              "\n",
              "<svg xmlns=\"http://www.w3.org/2000/svg\" height=\"24px\"viewBox=\"0 0 24 24\"\n",
              "     width=\"24px\">\n",
              "    <g>\n",
              "        <path d=\"M19 3H5c-1.1 0-2 .9-2 2v14c0 1.1.9 2 2 2h14c1.1 0 2-.9 2-2V5c0-1.1-.9-2-2-2zM9 17H7v-7h2v7zm4 0h-2V7h2v10zm4 0h-2v-4h2v4z\"/>\n",
              "    </g>\n",
              "</svg>\n",
              "  </button>\n",
              "\n",
              "<style>\n",
              "  .colab-df-quickchart {\n",
              "      --bg-color: #E8F0FE;\n",
              "      --fill-color: #1967D2;\n",
              "      --hover-bg-color: #E2EBFA;\n",
              "      --hover-fill-color: #174EA6;\n",
              "      --disabled-fill-color: #AAA;\n",
              "      --disabled-bg-color: #DDD;\n",
              "  }\n",
              "\n",
              "  [theme=dark] .colab-df-quickchart {\n",
              "      --bg-color: #3B4455;\n",
              "      --fill-color: #D2E3FC;\n",
              "      --hover-bg-color: #434B5C;\n",
              "      --hover-fill-color: #FFFFFF;\n",
              "      --disabled-bg-color: #3B4455;\n",
              "      --disabled-fill-color: #666;\n",
              "  }\n",
              "\n",
              "  .colab-df-quickchart {\n",
              "    background-color: var(--bg-color);\n",
              "    border: none;\n",
              "    border-radius: 50%;\n",
              "    cursor: pointer;\n",
              "    display: none;\n",
              "    fill: var(--fill-color);\n",
              "    height: 32px;\n",
              "    padding: 0;\n",
              "    width: 32px;\n",
              "  }\n",
              "\n",
              "  .colab-df-quickchart:hover {\n",
              "    background-color: var(--hover-bg-color);\n",
              "    box-shadow: 0 1px 2px rgba(60, 64, 67, 0.3), 0 1px 3px 1px rgba(60, 64, 67, 0.15);\n",
              "    fill: var(--button-hover-fill-color);\n",
              "  }\n",
              "\n",
              "  .colab-df-quickchart-complete:disabled,\n",
              "  .colab-df-quickchart-complete:disabled:hover {\n",
              "    background-color: var(--disabled-bg-color);\n",
              "    fill: var(--disabled-fill-color);\n",
              "    box-shadow: none;\n",
              "  }\n",
              "\n",
              "  .colab-df-spinner {\n",
              "    border: 2px solid var(--fill-color);\n",
              "    border-color: transparent;\n",
              "    border-bottom-color: var(--fill-color);\n",
              "    animation:\n",
              "      spin 1s steps(1) infinite;\n",
              "  }\n",
              "\n",
              "  @keyframes spin {\n",
              "    0% {\n",
              "      border-color: transparent;\n",
              "      border-bottom-color: var(--fill-color);\n",
              "      border-left-color: var(--fill-color);\n",
              "    }\n",
              "    20% {\n",
              "      border-color: transparent;\n",
              "      border-left-color: var(--fill-color);\n",
              "      border-top-color: var(--fill-color);\n",
              "    }\n",
              "    30% {\n",
              "      border-color: transparent;\n",
              "      border-left-color: var(--fill-color);\n",
              "      border-top-color: var(--fill-color);\n",
              "      border-right-color: var(--fill-color);\n",
              "    }\n",
              "    40% {\n",
              "      border-color: transparent;\n",
              "      border-right-color: var(--fill-color);\n",
              "      border-top-color: var(--fill-color);\n",
              "    }\n",
              "    60% {\n",
              "      border-color: transparent;\n",
              "      border-right-color: var(--fill-color);\n",
              "    }\n",
              "    80% {\n",
              "      border-color: transparent;\n",
              "      border-right-color: var(--fill-color);\n",
              "      border-bottom-color: var(--fill-color);\n",
              "    }\n",
              "    90% {\n",
              "      border-color: transparent;\n",
              "      border-bottom-color: var(--fill-color);\n",
              "    }\n",
              "  }\n",
              "</style>\n",
              "\n",
              "  <script>\n",
              "    async function quickchart(key) {\n",
              "      const quickchartButtonEl =\n",
              "        document.querySelector('#' + key + ' button');\n",
              "      quickchartButtonEl.disabled = true;  // To prevent multiple clicks.\n",
              "      quickchartButtonEl.classList.add('colab-df-spinner');\n",
              "      try {\n",
              "        const charts = await google.colab.kernel.invokeFunction(\n",
              "            'suggestCharts', [key], {});\n",
              "      } catch (error) {\n",
              "        console.error('Error during call to suggestCharts:', error);\n",
              "      }\n",
              "      quickchartButtonEl.classList.remove('colab-df-spinner');\n",
              "      quickchartButtonEl.classList.add('colab-df-quickchart-complete');\n",
              "    }\n",
              "    (() => {\n",
              "      let quickchartButtonEl =\n",
              "        document.querySelector('#df-3278b8b1-5e83-4e36-a8ba-ab6f07304243 button');\n",
              "      quickchartButtonEl.style.display =\n",
              "        google.colab.kernel.accessAllowed ? 'block' : 'none';\n",
              "    })();\n",
              "  </script>\n",
              "</div>\n",
              "    </div>\n",
              "  </div>\n"
            ],
            "text/plain": [
              "                                    time user_name   vote  score  \\\n",
              "0  2007-02-15 18:38:00\\n                     芥末小馒头   2912    4.0   \n",
              "1  2012-07-24 23:20:59\\n                      Bono  15630    5.0   \n",
              "2  2009-09-05 08:24:31\\n                        郁程  10625    5.0   \n",
              "3  2012-01-29 02:19:06\\n                      魚山飯寬   6594    5.0   \n",
              "4  2006-07-17 11:33:37\\n                      鱼丸粗面   2243    4.0   \n",
              "\n",
              "                              comment_content  \n",
              "0                             不要说烂，其实很卡通很cult  \n",
              "1  超级耐看和严重被低估的电影，看十来遍了越看越好看，我想100年后还是有很多人爱看它。  \n",
              "2                           再都不可能出现比它牛B的功夫电影了  \n",
              "3                      重温星爷的功夫，猛觉得这是部无比伟大的电影！  \n",
              "4                           华丽的夸张，情节倒是紧凑，毫不拖沓  "
            ]
          },
          "execution_count": 3,
          "metadata": {},
          "output_type": "execute_result"
        }
      ],
      "source": [
        "import pandas as pd\n",
        "df = pd.read_excel(\"[movie]功夫.xlsx\")\n",
        "df.head()"
      ]
    },
    {
      "cell_type": "code",
      "execution_count": 9,
      "metadata": {
        "cellView": "form",
        "colab": {
          "base_uri": "https://localhost:8080/",
          "height": 449
        },
        "id": "NOkv5o6Dw4_Q",
        "outputId": "9b35fe4c-8d0d-4881-b4d5-dd0be0b99944"
      },
      "outputs": [
        {
          "data": {
            "image/png": "[encoded data removed]",
            "text/plain": [
              "<Figure size 640x480 with 1 Axes>"
            ]
          },
          "metadata": {},
          "output_type": "display_data"
        }
      ],
      "source": [
        "# @title vote vs score\n",
        "\n",
        "from matplotlib import pyplot as plt\n",
        "df.plot(kind='scatter', x='vote', y='score', s=32, alpha=.8)\n",
        "plt.gca().spines[['top', 'right',]].set_visible(False)"
      ]
    },
    {
      "cell_type": "code",
      "execution_count": 8,
      "metadata": {
        "colab": {
          "base_uri": "https://localhost:8080/",
          "height": 452
        },
        "id": "KofWvwcywnx1",
        "outputId": "fb37084e-a047-44bf-9cce-8dabc61a97ce"
      },
      "outputs": [
        {
          "data": {
            "image/png": "[encoded data removed]",
            "text/plain": [
              "<Figure size 640x480 with 1 Axes>"
            ]
          },
          "metadata": {},
          "output_type": "display_data"
        }
      ],
      "source": [
        "# @title score\n",
        "\n",
        "from matplotlib import pyplot as plt\n",
        "df['score'].plot(kind='hist', bins=20, title='score')\n",
        "plt.gca().spines[['top', 'right',]].set_visible(False)"
      ]
    },
    {
      "cell_type": "markdown",
      "metadata": {
        "id": "80FVrYrpebAe"
      },
      "source": [
        "抽取评论"
      ]
    },
    {
      "cell_type": "code",
      "execution_count": null,
      "metadata": {
        "colab": {
          "base_uri": "https://localhost:8080/",
          "height": 35
        },
        "id": "9Xb-C9DqcxMf",
        "outputId": "509bb7ea-0071-4a0b-efb3-ed976d793701"
      },
      "outputs": [
        {
          "data": {
            "application/vnd.google.colaboratory.intrinsic+json": {
              "type": "string"
            },
            "text/plain": [
              "'麦高芬、错接、库里肖夫效应、降格拍摄、强造型应有尽有，简直就是低成本大制作的专业教材嘛。意境也不错，我想星爷这辈子拍不出比这更好的电影了'"
            ]
          },
          "execution_count": 36,
          "metadata": {},
          "output_type": "execute_result"
        }
      ],
      "source": [
        "comment = df[\"comment_content\"]\n",
        "len(comment)\n",
        "comment[100]"
      ]
    },
    {
      "cell_type": "markdown",
      "metadata": {
        "id": "6HWxqIdEeds4"
      },
      "source": [
        "制作prompts"
      ]
    },
    {
      "cell_type": "code",
      "execution_count": null,
      "metadata": {
        "id": "0OSBM0h6eVyo"
      },
      "outputs": [],
      "source": [
        "from langchain.prompts import PromptTemplate\n",
        "\n",
        "prompt = PromptTemplate(\n",
        "    input_variables=[\"comment\"],\n",
        "    template=\"请对所有的{comment}进行分析并告诉我有多少评论，首先找到评论中最高的词频，然后从评论内容分析出好评率，最后总结出人们对这部作品的感受\",\n",
        ")\n",
        "from langchain.chains import LLMChain\n",
        "\n",
        "chain = LLMChain(llm=llm,\n",
        "                 prompt=prompt,\n",
        "                 verbose=False)"
      ]
    },
    {
      "cell_type": "code",
      "execution_count": null,
      "metadata": {
        "colab": {
          "base_uri": "https://localhost:8080/"
        },
        "id": "Nsws7K93fCKm",
        "outputId": "f3b0044b-471d-4e9c-952b-b3ac58671372"
      },
      "outputs": [
        {
          "name": "stdout",
          "output_type": "stream",
          "text": [
            "## 评论分析\n",
            "\n",
            "**评论总数:** 10 个\n",
            "\n",
            "**最高词频:**\n",
            "\n",
            "- 影片\n",
            "- 优秀\n",
            "- 好\n",
            "-  shales\n",
            "- 星爷\n",
            "- 平均\n",
            "- 分数\n",
            "- 不科学\n",
            "- 神秘\n",
            "- 重温\n",
            "\n",
            "**好评率:**\n",
            "\n",
            "从评论内容分析，这部作品的好评率约为 60%。评论中大多数人对这部作品的评价为好评，特别点赞其幽默、剧情和表演。\n",
            "\n",
            "**人们对这部作品的感受:**\n",
            "\n",
            "评论中，人们对这部作品的感受主要集中在以下几个方面：\n",
            "\n",
            "- **幽默:** commenter们对这部作品的幽默感都很高，特别点赞其搞笑和逗乐的场景。\n",
            "- **剧情:** commenter们对这部作品的剧情评价普遍良好，称其故事简单但经典。\n",
            "- **表演:** commenter们对这部作品的表演评价也很好，称其演员演技优秀。\n",
            "- **视觉效果:** commenter们对这部作品的视觉效果评价良好，称其图像清晰。\n",
            "\n",
            "**总结:**\n",
            "\n",
            "总体而言，这部作品获得了评论员的一致好评，评论中大多数人对这部作品的评价为好评，特别点赞其幽默、剧情和表演。## 评论分析\n",
            "\n",
            "**评论总数:** 10 个\n",
            "\n",
            "**最高词频:**\n",
            "\n",
            "- 影片\n",
            "- 优秀\n",
            "- 好\n",
            "-  shales\n",
            "- 星爷\n",
            "- 平均\n",
            "- 分数\n",
            "- 不科学\n",
            "- 神秘\n",
            "- 重温\n",
            "\n",
            "**好评率:**\n",
            "\n",
            "从评论内容分析，这部作品的好评率约为 60%。评论中大多数人对这部作品的评价为好评，特别点赞其幽默、剧情和表演。\n",
            "\n",
            "**人们对这部作品的感受:**\n",
            "\n",
            "评论中，人们对这部作品的感受主要集中在以下几个方面：\n",
            "\n",
            "- **幽默:** commenter们对这部作品的幽默感都很高，特别点赞其搞笑和逗乐的场景。\n",
            "- **剧情:** commenter们对这部作品的剧情评价普遍良好，称其故事简单但经典。\n",
            "- **表演:** commenter们对这部作品的表演评价也很好，称其演员演技优秀。\n",
            "- **视觉效果:** commenter们对这部作品的视觉效果评价良好，称其图像清晰。\n",
            "\n",
            "**总结:**\n",
            "\n",
            "总体而言，这部作品获得了评论员的一致好评，评论中大多数人对这部作品的评价为好评，特别点赞其幽默、剧情和表演。\n"
          ]
        }
      ],
      "source": [
        "print(chain.run(comment[100:200]))\n",
        "# 发现问题，仅仅能分析少量评论"
      ]
    },
    {
      "cell_type": "markdown",
      "metadata": {
        "id": "7se9-XXJhsrK"
      },
      "source": [
        "RAG解决多评论"
      ]
    },
    {
      "cell_type": "code",
      "execution_count": null,
      "metadata": {
        "id": "Iy5uBA4_hy5V"
      },
      "outputs": [],
      "source": [
        "# 导入向量存储和嵌入处理相关的模块\n",
        "from langchain.vectorstores import Chroma  # 向量存储库\n",
        "from langchain.embeddings import GPT4AllEmbeddings  # GPT4All嵌入方法\n",
        "from langchain.embeddings import OllamaEmbeddings  # Ollama嵌入方法，提供另一种嵌入选项\n",
        "from langchain.text_splitter import RecursiveCharacterTextSplitter  # 用于将文档分割为更小的片段\n",
        "from langchain.document_loaders import TextLoader"
      ]
    },
    {
      "cell_type": "code",
      "execution_count": null,
      "metadata": {
        "id": "Gm3OxBoQh_N2"
      },
      "outputs": [],
      "source": [
        "# 定义文件名\n",
        "comment_txt = \"comment.txt\"\n",
        "\n",
        "# 打开文件并写入数组字符串\n",
        "with open(comment_txt, \"w\") as file:\n",
        "    for string in comment:\n",
        "        file.write(string + \"\\n\")"
      ]
    },
    {
      "cell_type": "code",
      "execution_count": null,
      "metadata": {
        "id": "sSLvFlJ8oWaV"
      },
      "outputs": [],
      "source": [
        "!pip install chromadb"
      ]
    },
    {
      "cell_type": "code",
      "execution_count": null,
      "metadata": {
        "id": "5G6-YIo7oUF-"
      },
      "outputs": [],
      "source": [
        "from langchain.vectorstores import Weaviate\n",
        "from langchain.embeddings import OpenAIEmbeddings"
      ]
    },
    {
      "cell_type": "code",
      "execution_count": null,
      "metadata": {
        "colab": {
          "base_uri": "https://localhost:8080/"
        },
        "id": "_m1lnNJlm7xu",
        "outputId": "cea57c06-dd0d-445c-a8e8-dff46ec1f9a9"
      },
      "outputs": [
        {
          "name": "stdout",
          "output_type": "stream",
          "text": [
            "文档被分割成了 42 块\n"
          ]
        }
      ],
      "source": [
        "loader = TextLoader(comment_txt)\n",
        "data = loader.load()\n",
        "\n",
        "# 初始化文本分割器，并将加载的文档内容分割成小块\n",
        "text_splitter = RecursiveCharacterTextSplitter(chunk_size=1500, chunk_overlap=100)\n",
        "all_splits = text_splitter.split_documents(data)\n",
        "print(f\"文档被分割成了 {len(all_splits)} 块\")\n",
        "vectorstore = Chroma.from_documents(documents=all_splits, embedding=OllamaEmbeddings())"
      ]
    },
    {
      "cell_type": "code",
      "execution_count": null,
      "metadata": {
        "id": "QzmXws9Mq9hD"
      },
      "outputs": [],
      "source": [
        "!pip install langchainhub"
      ]
    },
    {
      "cell_type": "code",
      "execution_count": null,
      "metadata": {
        "id": "DABpFY8mqZ7K"
      },
      "outputs": [],
      "source": [
        "# 从LangChain Hub中拉取RAG提示\n",
        "from langchain import hub\n",
        "QA_CHAIN_PROMPT = hub.pull(\"rlm/rag-prompt\")"
      ]
    },
    {
      "cell_type": "markdown",
      "metadata": {
        "id": "sD29DFvzuyLr"
      },
      "source": [
        "gemma总是有幻觉，改用llama2，但回答是英文了"
      ]
    },
    {
      "cell_type": "code",
      "execution_count": null,
      "metadata": {
        "id": "AUcWzahRvHH2"
      },
      "outputs": [],
      "source": [
        "!ollama run llama2"
      ]
    },
    {
      "cell_type": "code",
      "execution_count": null,
      "metadata": {
        "id": "gUwWyPa3sFY1"
      },
      "outputs": [],
      "source": [
        "# 初始化语言模型，设置回调函数管理器用于处理输出\n",
        "llm = Ollama(model=\"llama2\",\n",
        "        verbose=True,\n",
        "              callback_manager=CallbackManager([StreamingStdOutCallbackHandler()]))"
      ]
    },
    {
      "cell_type": "code",
      "execution_count": null,
      "metadata": {
        "colab": {
          "base_uri": "https://localhost:8080/"
        },
        "id": "lfM5oF49p_f4",
        "outputId": "8a729cc5-96f9-4522-95a0-ccdd21fdaf5f"
      },
      "outputs": [
        {
          "name": "stdout",
          "output_type": "stream",
          "text": [
            "It seems like you're discussing the movie \"Kung Fu Hustle\" and its cultural impact. The film, released in 2004, was a critical and commercial success, and is often cited as one of the best Chinese films of the 21st century.\n",
            "\n",
            "You mention that the movie has a unique blend of comedy, action, and drama, with a memorable cast of characters played by Stephen Chow, Wu Xia, and Ng Man-tat. The film's humor is described as \"浓浓的周星弛风格\" (thick and rich with the style of Stephen Chow).\n",
            "\n",
            "You also mention that the movie has become a cultural phenomenon, with many people watching it multiple times and recalling the scene where the character played by Stephen Chow, Mr. Sandwich, falls asleep during the movie. The film's exploration of themes such as the struggle for identity, the search for meaning, and the power of resistance against oppression is also praised.\n",
            "\n",
            "Overall, it seems like \"Kung Fu Hustle\" is a highly regarded and influential movie in Chinese cinema, known for its unique blend of humor, action, and drama, as well as its cultural impact and memorable characters."
          ]
        }
      ],
      "source": [
        "# 设置问答链，使用从向量存储中检索的信息和LLM模型来构建答案\n",
        "from langchain.chains import RetrievalQA\n",
        "qa_chain = RetrievalQA.from_chain_type(\n",
        "    llm,\n",
        "    retriever=vectorstore.as_retriever(),\n",
        "    chain_type_kwargs={\"prompt\": QA_CHAIN_PROMPT},\n",
        ")\n",
        "\n",
        "# 提出问题并获取答案\n",
        "question = f\"请对评论进行分析，总结出人们对这部作品的感受\"\n",
        "result = qa_chain({\"query\": question})"
      ]
    }
  ],
  "metadata": {
    "accelerator": "GPU",
    "colab": {
      "gpuType": "T4",
      "provenance": []
    },
    "kernelspec": {
      "display_name": "Python 3",
      "name": "python3"
    },
    "language_info": {
      "name": "python"
    }
  },
  "nbformat": 4,
  "nbformat_minor": 0
}
